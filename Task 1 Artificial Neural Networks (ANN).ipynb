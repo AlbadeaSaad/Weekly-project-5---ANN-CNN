{
 "cells": [
  {
   "cell_type": "markdown",
   "id": "cda1ba95",
   "metadata": {},
   "source": [
    "# Exam on Artificial Neural Networks (ANN)\n",
    "\n",
    "Welcome the Artificial Neural Networks (ANN) practical exam. In this exam, you will work on a classification task to predict the outcome of incidents involving buses. You are provided with a dataset that records breakdowns and delays in bus operations. Your task is to build, train, and evaluate an ANN model.\n",
    "\n",
    "---\n",
    "\n",
    "## Dataset Overview\n",
    "\n",
    "### **Dataset:**\n",
    "* Just run the command under the `Load Data` section to get the data downloaded and unzipped or you can access it [here](https://drive.google.com/file/d/1Flvj3qDkV2rPw7GGi5zOR-WGJgEBtRk-/view?usp=sharing)\n",
    "\n",
    "### **Dataset Name:** Bus Breakdown and Delays\n",
    "\n",
    "### **Description:**  \n",
    "The dataset contains records of incidents involving buses that were either running late or experienced a breakdown. Your task is to predict whether the bus was delayed or had a breakdown based on the features provided.\n",
    "\n",
    "### **Features:**\n",
    "The dataset contains the following columns:\n",
    "\n",
    "- `School_Year`\n",
    "- `Busbreakdown_ID`\n",
    "- `Run_Type`\n",
    "- `Bus_No`\n",
    "- `Route_Number`\n",
    "- `Reason`\n",
    "- `Schools_Serviced`\n",
    "- `Occurred_On`\n",
    "- `Created_On`\n",
    "- `Boro`\n",
    "- `Bus_Company_Name`\n",
    "- `How_Long_Delayed`\n",
    "- `Number_Of_Students_On_The_Bus`\n",
    "- `Has_Contractor_Notified_Schools`\n",
    "- `Has_Contractor_Notified_Parents`\n",
    "- `Have_You_Alerted_OPT`\n",
    "- `Informed_On`\n",
    "- `Incident_Number`\n",
    "- `Last_Updated_On`\n",
    "- `Breakdown_or_Running_Late` (Target Column)\n",
    "- `School_Age_or_PreK`"
   ]
  },
  {
   "cell_type": "markdown",
   "id": "4c2b014b",
   "metadata": {},
   "source": [
    "## Load Data"
   ]
  },
  {
   "cell_type": "code",
   "execution_count": 158,
   "id": "98ad02f5",
   "metadata": {},
   "outputs": [],
   "source": [
    "#https://drive.google.com/file/d/1Flvj3qDkV2rPw7GGi5zOR-WGJgEBtRk-/view?usp=sharing\n",
    "#!pip install gdown\n",
    "#!gdown --id 1Flvj3qDkV2rPw7GGi5zOR-WGJgEBtRk-"
   ]
  },
  {
   "cell_type": "code",
   "execution_count": 160,
   "id": "3d561fe0-3b34-4da7-b01d-d90595281c9f",
   "metadata": {},
   "outputs": [
    {
     "data": {
      "text/html": [
       "<div>\n",
       "<style scoped>\n",
       "    .dataframe tbody tr th:only-of-type {\n",
       "        vertical-align: middle;\n",
       "    }\n",
       "\n",
       "    .dataframe tbody tr th {\n",
       "        vertical-align: top;\n",
       "    }\n",
       "\n",
       "    .dataframe thead th {\n",
       "        text-align: right;\n",
       "    }\n",
       "</style>\n",
       "<table border=\"1\" class=\"dataframe\">\n",
       "  <thead>\n",
       "    <tr style=\"text-align: right;\">\n",
       "      <th></th>\n",
       "      <th>School_Year</th>\n",
       "      <th>Busbreakdown_ID</th>\n",
       "      <th>Run_Type</th>\n",
       "      <th>Bus_No</th>\n",
       "      <th>Route_Number</th>\n",
       "      <th>Reason</th>\n",
       "      <th>Schools_Serviced</th>\n",
       "      <th>Occurred_On</th>\n",
       "      <th>Created_On</th>\n",
       "      <th>Boro</th>\n",
       "      <th>...</th>\n",
       "      <th>How_Long_Delayed</th>\n",
       "      <th>Number_Of_Students_On_The_Bus</th>\n",
       "      <th>Has_Contractor_Notified_Schools</th>\n",
       "      <th>Has_Contractor_Notified_Parents</th>\n",
       "      <th>Have_You_Alerted_OPT</th>\n",
       "      <th>Informed_On</th>\n",
       "      <th>Incident_Number</th>\n",
       "      <th>Last_Updated_On</th>\n",
       "      <th>Breakdown_or_Running_Late</th>\n",
       "      <th>School_Age_or_PreK</th>\n",
       "    </tr>\n",
       "  </thead>\n",
       "  <tbody>\n",
       "    <tr>\n",
       "      <th>0</th>\n",
       "      <td>2015-2016</td>\n",
       "      <td>1224901</td>\n",
       "      <td>Pre-K/EI</td>\n",
       "      <td>811</td>\n",
       "      <td>1</td>\n",
       "      <td>Other</td>\n",
       "      <td>C353</td>\n",
       "      <td>10/26/2015 08:30:00 AM</td>\n",
       "      <td>10/26/2015 08:40:00 AM</td>\n",
       "      <td>Bronx</td>\n",
       "      <td>...</td>\n",
       "      <td>10MINUTES</td>\n",
       "      <td>5</td>\n",
       "      <td>Yes</td>\n",
       "      <td>Yes</td>\n",
       "      <td>No</td>\n",
       "      <td>10/26/2015 08:40:00 AM</td>\n",
       "      <td>NaN</td>\n",
       "      <td>10/26/2015 08:40:39 AM</td>\n",
       "      <td>Running Late</td>\n",
       "      <td>Pre-K</td>\n",
       "    </tr>\n",
       "    <tr>\n",
       "      <th>1</th>\n",
       "      <td>2015-2016</td>\n",
       "      <td>1225098</td>\n",
       "      <td>Pre-K/EI</td>\n",
       "      <td>9302</td>\n",
       "      <td>1</td>\n",
       "      <td>Heavy Traffic</td>\n",
       "      <td>C814</td>\n",
       "      <td>10/27/2015 07:10:00 AM</td>\n",
       "      <td>10/27/2015 07:11:00 AM</td>\n",
       "      <td>Bronx</td>\n",
       "      <td>...</td>\n",
       "      <td>25 MINUTES</td>\n",
       "      <td>3</td>\n",
       "      <td>Yes</td>\n",
       "      <td>Yes</td>\n",
       "      <td>No</td>\n",
       "      <td>10/27/2015 07:11:00 AM</td>\n",
       "      <td>NaN</td>\n",
       "      <td>10/27/2015 07:11:22 AM</td>\n",
       "      <td>Running Late</td>\n",
       "      <td>Pre-K</td>\n",
       "    </tr>\n",
       "    <tr>\n",
       "      <th>2</th>\n",
       "      <td>2015-2016</td>\n",
       "      <td>1215800</td>\n",
       "      <td>Pre-K/EI</td>\n",
       "      <td>358</td>\n",
       "      <td>2</td>\n",
       "      <td>Heavy Traffic</td>\n",
       "      <td>C195</td>\n",
       "      <td>09/18/2015 07:36:00 AM</td>\n",
       "      <td>09/18/2015 07:38:00 AM</td>\n",
       "      <td>Bronx</td>\n",
       "      <td>...</td>\n",
       "      <td>15 MINUTES</td>\n",
       "      <td>12</td>\n",
       "      <td>Yes</td>\n",
       "      <td>Yes</td>\n",
       "      <td>Yes</td>\n",
       "      <td>09/18/2015 07:38:00 AM</td>\n",
       "      <td>NaN</td>\n",
       "      <td>09/18/2015 07:38:44 AM</td>\n",
       "      <td>Running Late</td>\n",
       "      <td>Pre-K</td>\n",
       "    </tr>\n",
       "    <tr>\n",
       "      <th>3</th>\n",
       "      <td>2015-2016</td>\n",
       "      <td>1215511</td>\n",
       "      <td>Pre-K/EI</td>\n",
       "      <td>331</td>\n",
       "      <td>2</td>\n",
       "      <td>Other</td>\n",
       "      <td>C178</td>\n",
       "      <td>09/17/2015 08:08:00 AM</td>\n",
       "      <td>09/17/2015 08:12:00 AM</td>\n",
       "      <td>Bronx</td>\n",
       "      <td>...</td>\n",
       "      <td>10 minutes</td>\n",
       "      <td>11</td>\n",
       "      <td>Yes</td>\n",
       "      <td>Yes</td>\n",
       "      <td>Yes</td>\n",
       "      <td>09/17/2015 08:12:00 AM</td>\n",
       "      <td>NaN</td>\n",
       "      <td>09/17/2015 08:12:08 AM</td>\n",
       "      <td>Running Late</td>\n",
       "      <td>Pre-K</td>\n",
       "    </tr>\n",
       "    <tr>\n",
       "      <th>4</th>\n",
       "      <td>2015-2016</td>\n",
       "      <td>1215828</td>\n",
       "      <td>Pre-K/EI</td>\n",
       "      <td>332</td>\n",
       "      <td>2</td>\n",
       "      <td>Other</td>\n",
       "      <td>S176</td>\n",
       "      <td>09/18/2015 07:39:00 AM</td>\n",
       "      <td>09/18/2015 07:45:00 AM</td>\n",
       "      <td>Bronx</td>\n",
       "      <td>...</td>\n",
       "      <td>10MINUTES</td>\n",
       "      <td>12</td>\n",
       "      <td>Yes</td>\n",
       "      <td>Yes</td>\n",
       "      <td>No</td>\n",
       "      <td>09/18/2015 07:45:00 AM</td>\n",
       "      <td>NaN</td>\n",
       "      <td>09/18/2015 07:56:40 AM</td>\n",
       "      <td>Running Late</td>\n",
       "      <td>Pre-K</td>\n",
       "    </tr>\n",
       "  </tbody>\n",
       "</table>\n",
       "<p>5 rows × 21 columns</p>\n",
       "</div>"
      ],
      "text/plain": [
       "  School_Year  Busbreakdown_ID  Run_Type Bus_No Route_Number         Reason  \\\n",
       "0   2015-2016          1224901  Pre-K/EI    811            1          Other   \n",
       "1   2015-2016          1225098  Pre-K/EI   9302            1  Heavy Traffic   \n",
       "2   2015-2016          1215800  Pre-K/EI    358            2  Heavy Traffic   \n",
       "3   2015-2016          1215511  Pre-K/EI    331            2          Other   \n",
       "4   2015-2016          1215828  Pre-K/EI    332            2          Other   \n",
       "\n",
       "  Schools_Serviced             Occurred_On              Created_On   Boro  \\\n",
       "0             C353  10/26/2015 08:30:00 AM  10/26/2015 08:40:00 AM  Bronx   \n",
       "1             C814  10/27/2015 07:10:00 AM  10/27/2015 07:11:00 AM  Bronx   \n",
       "2             C195  09/18/2015 07:36:00 AM  09/18/2015 07:38:00 AM  Bronx   \n",
       "3             C178  09/17/2015 08:08:00 AM  09/17/2015 08:12:00 AM  Bronx   \n",
       "4             S176  09/18/2015 07:39:00 AM  09/18/2015 07:45:00 AM  Bronx   \n",
       "\n",
       "   ... How_Long_Delayed Number_Of_Students_On_The_Bus  \\\n",
       "0  ...        10MINUTES                             5   \n",
       "1  ...       25 MINUTES                             3   \n",
       "2  ...       15 MINUTES                            12   \n",
       "3  ...       10 minutes                            11   \n",
       "4  ...        10MINUTES                            12   \n",
       "\n",
       "   Has_Contractor_Notified_Schools Has_Contractor_Notified_Parents  \\\n",
       "0                              Yes                             Yes   \n",
       "1                              Yes                             Yes   \n",
       "2                              Yes                             Yes   \n",
       "3                              Yes                             Yes   \n",
       "4                              Yes                             Yes   \n",
       "\n",
       "  Have_You_Alerted_OPT             Informed_On Incident_Number  \\\n",
       "0                   No  10/26/2015 08:40:00 AM             NaN   \n",
       "1                   No  10/27/2015 07:11:00 AM             NaN   \n",
       "2                  Yes  09/18/2015 07:38:00 AM             NaN   \n",
       "3                  Yes  09/17/2015 08:12:00 AM             NaN   \n",
       "4                   No  09/18/2015 07:45:00 AM             NaN   \n",
       "\n",
       "          Last_Updated_On Breakdown_or_Running_Late School_Age_or_PreK  \n",
       "0  10/26/2015 08:40:39 AM              Running Late              Pre-K  \n",
       "1  10/27/2015 07:11:22 AM              Running Late              Pre-K  \n",
       "2  09/18/2015 07:38:44 AM              Running Late              Pre-K  \n",
       "3  09/17/2015 08:12:08 AM              Running Late              Pre-K  \n",
       "4  09/18/2015 07:56:40 AM              Running Late              Pre-K  \n",
       "\n",
       "[5 rows x 21 columns]"
      ]
     },
     "execution_count": 160,
     "metadata": {},
     "output_type": "execute_result"
    }
   ],
   "source": [
    "df = pd.read_csv('Bus_Breakdown_and_Delays.csv')\n",
    "df.head()"
   ]
  },
  {
   "cell_type": "markdown",
   "id": "3e39620c",
   "metadata": {},
   "source": [
    "## Importing Libraries"
   ]
  },
  {
   "cell_type": "code",
   "execution_count": 229,
   "id": "62381953",
   "metadata": {},
   "outputs": [],
   "source": [
    "import pandas as pd\n",
    "import numpy as np\n",
    "import seaborn as sb\n",
    "import matplotlib.pyplot as plt\n",
    "from tensorflow.keras.layers import Dense\n",
    "from tensorflow.keras.models import Sequential\n",
    "from sklearn.model_selection import train_test_split\n",
    "from tensorflow.keras.optimizers import Adam\n",
    "from sklearn.preprocessing import StandardScaler\n",
    "from sklearn.pipeline import Pipeline\n",
    "from sklearn.preprocessing import OrdinalEncoder, LabelEncoder\n",
    "from sklearn.impute import SimpleImputer\n",
    "%matplotlib inline"
   ]
  },
  {
   "cell_type": "markdown",
   "id": "71ccd4e2",
   "metadata": {},
   "source": [
    "## Exploratory Data Analysis (EDA)\n",
    "This could include:\n",
    "* **Inspect the dataset**\n",
    "\n",
    "* **Dataset structure**\n",
    "\n",
    "* **Summary statistics**\n",
    "\n",
    "* **Check for missing values**\n",
    "\n",
    "* **Distribution of features**\n",
    "\n",
    "* **Categorical feature analysis**\n",
    "\n",
    "* **Correlation matrix**\n",
    "\n",
    "* **Outlier detection**\n",
    "\n",
    "And add more as needed!"
   ]
  },
  {
   "cell_type": "code",
   "execution_count": 166,
   "id": "0b800b0c",
   "metadata": {},
   "outputs": [
    {
     "name": "stdout",
     "output_type": "stream",
     "text": [
      "<class 'pandas.core.frame.DataFrame'>\n",
      "RangeIndex: 147972 entries, 0 to 147971\n",
      "Data columns (total 21 columns):\n",
      " #   Column                           Non-Null Count   Dtype \n",
      "---  ------                           --------------   ----- \n",
      " 0   School_Year                      147972 non-null  object\n",
      " 1   Busbreakdown_ID                  147972 non-null  int64 \n",
      " 2   Run_Type                         147883 non-null  object\n",
      " 3   Bus_No                           147972 non-null  object\n",
      " 4   Route_Number                     147884 non-null  object\n",
      " 5   Reason                           147870 non-null  object\n",
      " 6   Schools_Serviced                 147972 non-null  object\n",
      " 7   Occurred_On                      147972 non-null  object\n",
      " 8   Created_On                       147972 non-null  object\n",
      " 9   Boro                             141654 non-null  object\n",
      " 10  Bus_Company_Name                 147972 non-null  object\n",
      " 11  How_Long_Delayed                 126342 non-null  object\n",
      " 12  Number_Of_Students_On_The_Bus    147972 non-null  int64 \n",
      " 13  Has_Contractor_Notified_Schools  147972 non-null  object\n",
      " 14  Has_Contractor_Notified_Parents  147972 non-null  object\n",
      " 15  Have_You_Alerted_OPT             147972 non-null  object\n",
      " 16  Informed_On                      147972 non-null  object\n",
      " 17  Incident_Number                  5632 non-null    object\n",
      " 18  Last_Updated_On                  147972 non-null  object\n",
      " 19  Breakdown_or_Running_Late        147972 non-null  object\n",
      " 20  School_Age_or_PreK               147972 non-null  object\n",
      "dtypes: int64(2), object(19)\n",
      "memory usage: 23.7+ MB\n"
     ]
    }
   ],
   "source": [
    "df.info()"
   ]
  },
  {
   "cell_type": "code",
   "execution_count": null,
   "id": "9f4e8ec5-8fdc-474b-b448-b42e564c8c2e",
   "metadata": {},
   "outputs": [],
   "source": []
  },
  {
   "cell_type": "code",
   "execution_count": 169,
   "id": "f51a954d-6f2b-4e49-a03c-2d106d63f085",
   "metadata": {},
   "outputs": [
    {
     "data": {
      "text/plain": [
       "0"
      ]
     },
     "execution_count": 169,
     "metadata": {},
     "output_type": "execute_result"
    }
   ],
   "source": [
    "df.duplicated().sum()"
   ]
  },
  {
   "cell_type": "code",
   "execution_count": 170,
   "id": "72fa23ed-35ca-4cf3-9345-db8a71df1d8a",
   "metadata": {},
   "outputs": [
    {
     "name": "stdout",
     "output_type": "stream",
     "text": [
      "School_Year 4\n",
      "Busbreakdown_ID 147972\n",
      "Run_Type 10\n",
      "Bus_No 10765\n",
      "Route_Number 11283\n",
      "Reason 10\n",
      "Schools_Serviced 5180\n",
      "Occurred_On 70108\n",
      "Created_On 75822\n",
      "Boro 11\n",
      "Bus_Company_Name 91\n",
      "How_Long_Delayed 1863\n",
      "Number_Of_Students_On_The_Bus 123\n",
      "Has_Contractor_Notified_Schools 2\n",
      "Has_Contractor_Notified_Parents 2\n",
      "Have_You_Alerted_OPT 2\n",
      "Informed_On 75822\n",
      "Incident_Number 4666\n",
      "Last_Updated_On 145769\n",
      "Breakdown_or_Running_Late 2\n",
      "School_Age_or_PreK 2\n"
     ]
    }
   ],
   "source": [
    "#Checking catagories nums\n",
    "for col in df.columns:\n",
    "    print(col, df[col].nunique())"
   ]
  },
  {
   "cell_type": "code",
   "execution_count": null,
   "id": "de9a4b5c-2b5e-4ae7-b72a-fa87ebcaec27",
   "metadata": {},
   "outputs": [],
   "source": []
  },
  {
   "cell_type": "code",
   "execution_count": 174,
   "id": "1142ff8e-0a77-45b5-bce2-878363aeec41",
   "metadata": {},
   "outputs": [
    {
     "data": {
      "text/plain": [
       "Bus_No\n",
       "9354     468\n",
       "357      465\n",
       "9302     434\n",
       "118      357\n",
       "9320     349\n",
       "        ... \n",
       "20133      1\n",
       "1140D      1\n",
       "553D       1\n",
       "160D       1\n",
       "K9345      1\n",
       "Name: count, Length: 10765, dtype: int64"
      ]
     },
     "execution_count": 174,
     "metadata": {},
     "output_type": "execute_result"
    }
   ],
   "source": [
    "df['Bus_No'].value_counts()"
   ]
  },
  {
   "cell_type": "markdown",
   "id": "1a559e40",
   "metadata": {},
   "source": [
    "## Data Preprocessing\n",
    "This could include:\n",
    "\n",
    "* **Handle Missing Values**\n",
    "    * Impute missing values or drop them.\n",
    "\n",
    "* **Encode Categorical Variables**\n",
    "    * One-hot encoding\n",
    "    * Label encoding\n",
    "\n",
    "* **Scale and Normalize Data**\n",
    "    * Standardization (Z-score)\n",
    "    * Min-Max scaling\n",
    "\n",
    "* **Feature Engineering**\n",
    "    * Create new features\n",
    "    * Feature selection\n",
    "\n",
    "* **Handle Imbalanced Data**\n",
    "    * Oversampling\n",
    "    * Undersampling\n",
    "\n",
    "* **Handle Outliers**\n",
    "    * Remove outliers\n",
    "    * Transform outliers\n",
    "\n",
    "* **Remove Duplicates**\n",
    "    * Remove redundant or duplicate data\n",
    "\n",
    "\n",
    "And add more as needed!\n",
    "\n",
    "Please treat these as suggestions. Feel free to use your judgment for the rest."
   ]
  },
  {
   "cell_type": "code",
   "execution_count": 177,
   "id": "e6867a7c",
   "metadata": {},
   "outputs": [],
   "source": [
    "#Rename values to fit into one catagory\n",
    "df['How_Long_Delayed'] = df['How_Long_Delayed'].replace(['30MINS', '30 minutes', '25/30', '30-40MINS', '20-40', '30  min', '20-32MINS'], '30 MINS')"
   ]
  },
  {
   "cell_type": "code",
   "execution_count": 179,
   "id": "084ba0db-f036-4e0e-93cc-29fc21324f15",
   "metadata": {},
   "outputs": [],
   "source": [
    "df = pd.get_dummies(df, columns = ['Reason', 'School_Year'])"
   ]
  },
  {
   "cell_type": "code",
   "execution_count": 196,
   "id": "7d833654-00f8-418b-afd2-9481e256a16d",
   "metadata": {},
   "outputs": [],
   "source": [
    "encoder = OrdinalEncoder()\n",
    "label_encoder = LabelEncoder()\n",
    "df_objects = df.select_dtypes(include = 'object')"
   ]
  },
  {
   "cell_type": "code",
   "execution_count": 184,
   "id": "adbe90df-a252-4825-9728-d02364893cb5",
   "metadata": {},
   "outputs": [],
   "source": [
    "imputer = SimpleImputer(strategy='most_frequent')\n",
    "df = pd.DataFrame(imputer.fit_transform(df), columns=df.columns)"
   ]
  },
  {
   "cell_type": "code",
   "execution_count": 192,
   "id": "9f47af5f-b07c-4080-a76d-55200ccd21d0",
   "metadata": {},
   "outputs": [
    {
     "data": {
      "text/plain": [
       "Index(['Run_Type', 'Bus_No', 'Route_Number', 'Schools_Serviced', 'Occurred_On',\n",
       "       'Created_On', 'Boro', 'Bus_Company_Name', 'How_Long_Delayed',\n",
       "       'Has_Contractor_Notified_Schools', 'Has_Contractor_Notified_Parents',\n",
       "       'Have_You_Alerted_OPT', 'Informed_On', 'Incident_Number',\n",
       "       'Last_Updated_On', 'Breakdown_or_Running_Late', 'School_Age_or_PreK'],\n",
       "      dtype='object')"
      ]
     },
     "execution_count": 192,
     "metadata": {},
     "output_type": "execute_result"
    }
   ],
   "source": [
    "df_objects.columns"
   ]
  },
  {
   "cell_type": "code",
   "execution_count": 200,
   "id": "954481d2-5150-4fc0-be2f-84b42294a696",
   "metadata": {},
   "outputs": [],
   "source": [
    "df['How_Long_Delayed'] = encoder.fit_transform(df[['How_Long_Delayed']])"
   ]
  },
  {
   "cell_type": "code",
   "execution_count": 204,
   "id": "d937ae94-632b-4e00-a345-133b5d277bf1",
   "metadata": {},
   "outputs": [
    {
     "data": {
      "text/plain": [
       "Index(['Busbreakdown_ID', 'Run_Type', 'Bus_No', 'Route_Number',\n",
       "       'Schools_Serviced', 'Occurred_On', 'Created_On', 'Boro',\n",
       "       'Bus_Company_Name', 'How_Long_Delayed', 'Number_Of_Students_On_The_Bus',\n",
       "       'Has_Contractor_Notified_Schools', 'Has_Contractor_Notified_Parents',\n",
       "       'Have_You_Alerted_OPT', 'Informed_On', 'Incident_Number',\n",
       "       'Last_Updated_On', 'Breakdown_or_Running_Late', 'School_Age_or_PreK',\n",
       "       'Reason_Accident', 'Reason_Delayed by School', 'Reason_Flat Tire',\n",
       "       'Reason_Heavy Traffic', 'Reason_Late return from Field Trip',\n",
       "       'Reason_Mechanical Problem', 'Reason_Other', 'Reason_Problem Run',\n",
       "       'Reason_Weather Conditions', 'Reason_Won`t Start',\n",
       "       'School_Year_2015-2016', 'School_Year_2016-2017',\n",
       "       'School_Year_2017-2018', 'School_Year_2019-2020'],\n",
       "      dtype='object')"
      ]
     },
     "execution_count": 204,
     "metadata": {},
     "output_type": "execute_result"
    }
   ],
   "source": [
    "df.columns"
   ]
  },
  {
   "cell_type": "code",
   "execution_count": 210,
   "id": "00c471f6-19b7-4900-a1f4-6a8dd1df5302",
   "metadata": {},
   "outputs": [
    {
     "name": "stderr",
     "output_type": "stream",
     "text": [
      "C:\\Users\\gemar\\anaconda3\\Lib\\site-packages\\sklearn\\preprocessing\\_label.py:114: DataConversionWarning: A column-vector y was passed when a 1d array was expected. Please change the shape of y to (n_samples, ), for example using ravel().\n",
      "  y = column_or_1d(y, warn=True)\n"
     ]
    },
    {
     "data": {
      "text/plain": [
       "0         1\n",
       "1         1\n",
       "2         1\n",
       "3         1\n",
       "4         1\n",
       "         ..\n",
       "147967    1\n",
       "147968    1\n",
       "147969    1\n",
       "147970    0\n",
       "147971    1\n",
       "Name: Breakdown_or_Running_Late, Length: 147972, dtype: int64"
      ]
     },
     "execution_count": 210,
     "metadata": {},
     "output_type": "execute_result"
    }
   ],
   "source": [
    "df['Breakdown_or_Running_Late'] = label_encoder.fit_transform(df[['Breakdown_or_Running_Late']])"
   ]
  },
  {
   "cell_type": "code",
   "execution_count": 97,
   "id": "57854b9e-3b7c-4a93-b9d9-534163468177",
   "metadata": {},
   "outputs": [],
   "source": [
    "X = df.drop(columns = ['Busbreakdown_ID', 'Incident_Number', ])\n",
    "y = df[['Breakdown_or_Running_Late']]"
   ]
  },
  {
   "cell_type": "code",
   "execution_count": 237,
   "id": "6be17956-0bd7-48a9-9fdb-62478b077497",
   "metadata": {},
   "outputs": [],
   "source": [
    "scaler = StandardScaler()\n",
    "X = pd.DataFrame(scaler.fit_transform(X), columns = X.columns)"
   ]
  },
  {
   "cell_type": "markdown",
   "id": "bc887660",
   "metadata": {},
   "source": [
    "## Split the Dataset\n",
    "Next, split the dataset into training, validation, and testing sets."
   ]
  },
  {
   "cell_type": "code",
   "execution_count": null,
   "id": "62bc7f1f-8980-4fd5-8145-4b6e4c7bf217",
   "metadata": {},
   "outputs": [],
   "source": []
  },
  {
   "cell_type": "code",
   "execution_count": 256,
   "id": "fa5bbfd5",
   "metadata": {},
   "outputs": [],
   "source": [
    "X_train, X_test, y_train, y_test = train_test_split(X, y, test_size = .33, random_state = 42)"
   ]
  },
  {
   "cell_type": "markdown",
   "id": "7119b7d7",
   "metadata": {},
   "source": [
    "## Building the ANN Model\n",
    "In this section, define the architecture of the ANN by specifying the number of layers, neurons, and activation functions."
   ]
  },
  {
   "cell_type": "code",
   "execution_count": 259,
   "id": "8532b3b9",
   "metadata": {},
   "outputs": [
    {
     "name": "stderr",
     "output_type": "stream",
     "text": [
      "C:\\Users\\gemar\\anaconda3\\Lib\\site-packages\\keras\\src\\layers\\core\\dense.py:87: UserWarning: Do not pass an `input_shape`/`input_dim` argument to a layer. When using Sequential models, prefer using an `Input(shape)` object as the first layer in the model instead.\n",
      "  super().__init__(activity_regularizer=activity_regularizer, **kwargs)\n"
     ]
    }
   ],
   "source": [
    "model = Sequential()\n",
    "\n",
    "model.add(Dense(32, activation = 'relu', input_dim = X_train.shape[1]))\n",
    "\n",
    "model.add(Dense(32, activation = 'relu'))\n",
    "model.add(Dense(32, activation = 'relu'))\n",
    "\n",
    "model.add(Dense(1, activation = 'sigmoid'))\n",
    "\n"
   ]
  },
  {
   "cell_type": "markdown",
   "id": "ac5e52e1",
   "metadata": {},
   "source": [
    "## Compile the Model\n",
    "Compile the ANN model by defining the optimizer, loss function, and evaluation metrics."
   ]
  },
  {
   "cell_type": "code",
   "execution_count": 262,
   "id": "ab363be3",
   "metadata": {},
   "outputs": [
    {
     "data": {
      "text/html": [
       "<pre style=\"white-space:pre;overflow-x:auto;line-height:normal;font-family:Menlo,'DejaVu Sans Mono',consolas,'Courier New',monospace\"><span style=\"font-weight: bold\">Model: \"sequential_5\"</span>\n",
       "</pre>\n"
      ],
      "text/plain": [
       "\u001b[1mModel: \"sequential_5\"\u001b[0m\n"
      ]
     },
     "metadata": {},
     "output_type": "display_data"
    },
    {
     "data": {
      "text/html": [
       "<pre style=\"white-space:pre;overflow-x:auto;line-height:normal;font-family:Menlo,'DejaVu Sans Mono',consolas,'Courier New',monospace\">┏━━━━━━━━━━━━━━━━━━━━━━━━━━━━━━━━━━━━━━┳━━━━━━━━━━━━━━━━━━━━━━━━━━━━━┳━━━━━━━━━━━━━━━━━┓\n",
       "┃<span style=\"font-weight: bold\"> Layer (type)                         </span>┃<span style=\"font-weight: bold\"> Output Shape                </span>┃<span style=\"font-weight: bold\">         Param # </span>┃\n",
       "┡━━━━━━━━━━━━━━━━━━━━━━━━━━━━━━━━━━━━━━╇━━━━━━━━━━━━━━━━━━━━━━━━━━━━━╇━━━━━━━━━━━━━━━━━┩\n",
       "│ dense_10 (<span style=\"color: #0087ff; text-decoration-color: #0087ff\">Dense</span>)                     │ (<span style=\"color: #00d7ff; text-decoration-color: #00d7ff\">None</span>, <span style=\"color: #00af00; text-decoration-color: #00af00\">32</span>)                  │             <span style=\"color: #00af00; text-decoration-color: #00af00\">992</span> │\n",
       "├──────────────────────────────────────┼─────────────────────────────┼─────────────────┤\n",
       "│ dense_11 (<span style=\"color: #0087ff; text-decoration-color: #0087ff\">Dense</span>)                     │ (<span style=\"color: #00d7ff; text-decoration-color: #00d7ff\">None</span>, <span style=\"color: #00af00; text-decoration-color: #00af00\">32</span>)                  │           <span style=\"color: #00af00; text-decoration-color: #00af00\">1,056</span> │\n",
       "├──────────────────────────────────────┼─────────────────────────────┼─────────────────┤\n",
       "│ dense_12 (<span style=\"color: #0087ff; text-decoration-color: #0087ff\">Dense</span>)                     │ (<span style=\"color: #00d7ff; text-decoration-color: #00d7ff\">None</span>, <span style=\"color: #00af00; text-decoration-color: #00af00\">32</span>)                  │           <span style=\"color: #00af00; text-decoration-color: #00af00\">1,056</span> │\n",
       "├──────────────────────────────────────┼─────────────────────────────┼─────────────────┤\n",
       "│ dense_13 (<span style=\"color: #0087ff; text-decoration-color: #0087ff\">Dense</span>)                     │ (<span style=\"color: #00d7ff; text-decoration-color: #00d7ff\">None</span>, <span style=\"color: #00af00; text-decoration-color: #00af00\">1</span>)                   │              <span style=\"color: #00af00; text-decoration-color: #00af00\">33</span> │\n",
       "└──────────────────────────────────────┴─────────────────────────────┴─────────────────┘\n",
       "</pre>\n"
      ],
      "text/plain": [
       "┏━━━━━━━━━━━━━━━━━━━━━━━━━━━━━━━━━━━━━━┳━━━━━━━━━━━━━━━━━━━━━━━━━━━━━┳━━━━━━━━━━━━━━━━━┓\n",
       "┃\u001b[1m \u001b[0m\u001b[1mLayer (type)                        \u001b[0m\u001b[1m \u001b[0m┃\u001b[1m \u001b[0m\u001b[1mOutput Shape               \u001b[0m\u001b[1m \u001b[0m┃\u001b[1m \u001b[0m\u001b[1m        Param #\u001b[0m\u001b[1m \u001b[0m┃\n",
       "┡━━━━━━━━━━━━━━━━━━━━━━━━━━━━━━━━━━━━━━╇━━━━━━━━━━━━━━━━━━━━━━━━━━━━━╇━━━━━━━━━━━━━━━━━┩\n",
       "│ dense_10 (\u001b[38;5;33mDense\u001b[0m)                     │ (\u001b[38;5;45mNone\u001b[0m, \u001b[38;5;34m32\u001b[0m)                  │             \u001b[38;5;34m992\u001b[0m │\n",
       "├──────────────────────────────────────┼─────────────────────────────┼─────────────────┤\n",
       "│ dense_11 (\u001b[38;5;33mDense\u001b[0m)                     │ (\u001b[38;5;45mNone\u001b[0m, \u001b[38;5;34m32\u001b[0m)                  │           \u001b[38;5;34m1,056\u001b[0m │\n",
       "├──────────────────────────────────────┼─────────────────────────────┼─────────────────┤\n",
       "│ dense_12 (\u001b[38;5;33mDense\u001b[0m)                     │ (\u001b[38;5;45mNone\u001b[0m, \u001b[38;5;34m32\u001b[0m)                  │           \u001b[38;5;34m1,056\u001b[0m │\n",
       "├──────────────────────────────────────┼─────────────────────────────┼─────────────────┤\n",
       "│ dense_13 (\u001b[38;5;33mDense\u001b[0m)                     │ (\u001b[38;5;45mNone\u001b[0m, \u001b[38;5;34m1\u001b[0m)                   │              \u001b[38;5;34m33\u001b[0m │\n",
       "└──────────────────────────────────────┴─────────────────────────────┴─────────────────┘\n"
      ]
     },
     "metadata": {},
     "output_type": "display_data"
    },
    {
     "data": {
      "text/html": [
       "<pre style=\"white-space:pre;overflow-x:auto;line-height:normal;font-family:Menlo,'DejaVu Sans Mono',consolas,'Courier New',monospace\"><span style=\"font-weight: bold\"> Total params: </span><span style=\"color: #00af00; text-decoration-color: #00af00\">3,137</span> (12.25 KB)\n",
       "</pre>\n"
      ],
      "text/plain": [
       "\u001b[1m Total params: \u001b[0m\u001b[38;5;34m3,137\u001b[0m (12.25 KB)\n"
      ]
     },
     "metadata": {},
     "output_type": "display_data"
    },
    {
     "data": {
      "text/html": [
       "<pre style=\"white-space:pre;overflow-x:auto;line-height:normal;font-family:Menlo,'DejaVu Sans Mono',consolas,'Courier New',monospace\"><span style=\"font-weight: bold\"> Trainable params: </span><span style=\"color: #00af00; text-decoration-color: #00af00\">3,137</span> (12.25 KB)\n",
       "</pre>\n"
      ],
      "text/plain": [
       "\u001b[1m Trainable params: \u001b[0m\u001b[38;5;34m3,137\u001b[0m (12.25 KB)\n"
      ]
     },
     "metadata": {},
     "output_type": "display_data"
    },
    {
     "data": {
      "text/html": [
       "<pre style=\"white-space:pre;overflow-x:auto;line-height:normal;font-family:Menlo,'DejaVu Sans Mono',consolas,'Courier New',monospace\"><span style=\"font-weight: bold\"> Non-trainable params: </span><span style=\"color: #00af00; text-decoration-color: #00af00\">0</span> (0.00 B)\n",
       "</pre>\n"
      ],
      "text/plain": [
       "\u001b[1m Non-trainable params: \u001b[0m\u001b[38;5;34m0\u001b[0m (0.00 B)\n"
      ]
     },
     "metadata": {},
     "output_type": "display_data"
    }
   ],
   "source": [
    "model.compile(optimizer = 'adam', loss = 'binary_crossentropy', metrics = ['accuracy'])\n",
    "model.summary()"
   ]
  },
  {
   "cell_type": "markdown",
   "id": "e9a72223",
   "metadata": {},
   "source": [
    "## Training the Model\n",
    "Train the ANN model using the training data."
   ]
  },
  {
   "cell_type": "code",
   "execution_count": 265,
   "id": "e43fedab",
   "metadata": {},
   "outputs": [
    {
     "name": "stdout",
     "output_type": "stream",
     "text": [
      "Epoch 1/5\n",
      "\u001b[1m310/310\u001b[0m \u001b[32m━━━━━━━━━━━━━━━━━━━━\u001b[0m\u001b[37m\u001b[0m \u001b[1m5s\u001b[0m 5ms/step - accuracy: 0.9154 - loss: 0.2105 - val_accuracy: 0.9999 - val_loss: 0.0049\n",
      "Epoch 2/5\n",
      "\u001b[1m310/310\u001b[0m \u001b[32m━━━━━━━━━━━━━━━━━━━━\u001b[0m\u001b[37m\u001b[0m \u001b[1m1s\u001b[0m 3ms/step - accuracy: 0.9999 - loss: 8.7844e-04 - val_accuracy: 0.9999 - val_loss: 0.0011\n",
      "Epoch 3/5\n",
      "\u001b[1m310/310\u001b[0m \u001b[32m━━━━━━━━━━━━━━━━━━━━\u001b[0m\u001b[37m\u001b[0m \u001b[1m1s\u001b[0m 3ms/step - accuracy: 1.0000 - loss: 1.4483e-04 - val_accuracy: 0.9999 - val_loss: 0.0012\n",
      "Epoch 4/5\n",
      "\u001b[1m310/310\u001b[0m \u001b[32m━━━━━━━━━━━━━━━━━━━━\u001b[0m\u001b[37m\u001b[0m \u001b[1m1s\u001b[0m 3ms/step - accuracy: 1.0000 - loss: 6.0497e-05 - val_accuracy: 0.9999 - val_loss: 0.0012\n",
      "Epoch 5/5\n",
      "\u001b[1m310/310\u001b[0m \u001b[32m━━━━━━━━━━━━━━━━━━━━\u001b[0m\u001b[37m\u001b[0m \u001b[1m1s\u001b[0m 3ms/step - accuracy: 1.0000 - loss: 3.6502e-05 - val_accuracy: 0.9999 - val_loss: 0.0013\n"
     ]
    }
   ],
   "source": [
    "history = model.fit(X_train, y_train, epochs = 5, batch_size = 256, validation_split=.2)"
   ]
  },
  {
   "cell_type": "markdown",
   "id": "20ce9661",
   "metadata": {},
   "source": [
    "## Evaluate the Model\n",
    "Evaluate the performance of the model on the test set."
   ]
  },
  {
   "cell_type": "code",
   "execution_count": 277,
   "id": "73167afc",
   "metadata": {},
   "outputs": [
    {
     "name": "stdout",
     "output_type": "stream",
     "text": [
      "\u001b[1m1526/1526\u001b[0m \u001b[32m━━━━━━━━━━━━━━━━━━━━\u001b[0m\u001b[37m\u001b[0m \u001b[1m3s\u001b[0m 2ms/step - accuracy: 0.9999 - loss: 2.8721e-04\n",
      "Accuracy: 99.99%\n",
      "loss: 0.07%\n"
     ]
    }
   ],
   "source": [
    "loss, acc = model.evaluate(X_test, y_test)\n",
    "print(\"Accuracy: %.2f%%\" % (acc*100))\n",
    "print(\"loss: %.2f%%\" % (loss*100))"
   ]
  },
  {
   "cell_type": "markdown",
   "id": "08e9bc87",
   "metadata": {},
   "source": [
    "## Make Predictions\n",
    "Use the trained model to make predictions on new or unseen data."
   ]
  },
  {
   "cell_type": "code",
   "execution_count": 283,
   "id": "940fa394",
   "metadata": {},
   "outputs": [
    {
     "name": "stdout",
     "output_type": "stream",
     "text": [
      "\u001b[1m1526/1526\u001b[0m \u001b[32m━━━━━━━━━━━━━━━━━━━━\u001b[0m\u001b[37m\u001b[0m \u001b[1m3s\u001b[0m 2ms/step\n"
     ]
    }
   ],
   "source": [
    "y_pred = model.predict(X_test).round()"
   ]
  },
  {
   "cell_type": "markdown",
   "id": "94942463",
   "metadata": {},
   "source": [
    "## Model Performance Visualization\n",
    "Visualize the performance metrics such as accuracy and loss over the epochs."
   ]
  },
  {
   "cell_type": "code",
   "execution_count": 315,
   "id": "c9a4b257-231e-42a3-a287-7cf4fdc083d3",
   "metadata": {},
   "outputs": [
    {
     "data": {
      "text/plain": [
       "[<matplotlib.lines.Line2D at 0x1d44fc7e960>]"
      ]
     },
     "execution_count": 315,
     "metadata": {},
     "output_type": "execute_result"
    },
    {
     "data": {
      "image/png": "[encoded data removed]",
      "text/plain": [
       "<Figure size 640x480 with 1 Axes>"
      ]
     },
     "metadata": {},
     "output_type": "display_data"
    }
   ],
   "source": [
    "#acc\n",
    "plt.plot(history.history['accuracy'])\n",
    "plt.plot(history.history['val_accuracy'])\n",
    "\n",
    "#loss\n",
    "plt.plot(history.history['loss'])\n",
    "plt.plot(history.history['val_loss'])"
   ]
  },
  {
   "cell_type": "markdown",
   "id": "1d32965f",
   "metadata": {},
   "source": [
    "## Save the Model\n",
    "Save the trained model for submission."
   ]
  },
  {
   "cell_type": "code",
   "execution_count": null,
   "id": "a4e1f00e",
   "metadata": {},
   "outputs": [],
   "source": []
  },
  {
   "cell_type": "markdown",
   "id": "9ebe9b8d",
   "metadata": {},
   "source": [
    "## Project Questions:\n",
    "\n",
    "1. **Data Preprocessing**: Explain why you chose your specific data preprocessing techniques (e.g., normalization, encoding). How did these techniques help prepare the data for training the model?\n",
    "2. **Model Architecture**: Describe the reasoning behind your model’s architecture (e.g., the number of layers, type of layers, number of neurons, and activation functions). Why did you believe this architecture was appropriate for the problem at hand?\n",
    "3. **Training Process**: Discuss why you chose your batch size, number of epochs, and optimizer. How did these choices affect the training process? Did you experiment with different values, and what were the outcomes?\n",
    "4. **Loss Function and Metrics**: Why did you choose the specific loss function and evaluation metrics? How do they align with the objective of the task (e.g., regression vs classification)?\n",
    "5. **Regularization Techniques**: If you used regularization techniques such as dropout or weight decay, explain why you implemented them and how they influenced the model's performance.\n",
    "6. **Model Evaluation**: Justify your approach to evaluating the model. Why did you choose the specific performance metrics, and how do they reflect the model's success in solving the task?\n",
    "7. **Model Tuning (If Done)**: Describe any tuning you performed (e.g., hyperparameter tuning) and why you felt it was necessary. How did these adjustments improve model performance?\n",
    "8. **Overfitting and Underfitting**: Analyze whether the model encountered any overfitting or underfitting during training. What strategies could you implement to mitigate these issues?"
   ]
  },
  {
   "cell_type": "markdown",
   "id": "5f524a61",
   "metadata": {},
   "source": [
    "### Answer Here:"
   ]
  }
 ],
 "metadata": {
  "kernelspec": {
   "display_name": "Python 3 (ipykernel)",
   "language": "python",
   "name": "python3"
  },
  "language_info": {
   "codemirror_mode": {
    "name": "ipython",
    "version": 3
   },
   "file_extension": ".py",
   "mimetype": "text/x-python",
   "name": "python",
   "nbconvert_exporter": "python",
   "pygments_lexer": "ipython3",
   "version": "3.12.4"
  }
 },
 "nbformat": 4,
 "nbformat_minor": 5
}
